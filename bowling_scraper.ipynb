{
  "nbformat": 4,
  "nbformat_minor": 0,
  "metadata": {
    "colab": {
      "provenance": [],
      "collapsed_sections": [],
      "authorship_tag": "ABX9TyOhsrgCO/CC2gbPshA24M6l",
      "include_colab_link": true
    },
    "kernelspec": {
      "name": "python3",
      "display_name": "Python 3"
    },
    "language_info": {
      "name": "python"
    }
  },
  "cells": [
    {
      "cell_type": "markdown",
      "metadata": {
        "id": "view-in-github",
        "colab_type": "text"
      },
      "source": [
        "<a href=\"https://colab.research.google.com/github/felixM2020/ecn_t10_scorecard_scraper/blob/main/bowling_scraper.ipynb\" target=\"_parent\"><img src=\"https://colab.research.google.com/assets/colab-badge.svg\" alt=\"Open In Colab\"/></a>"
      ]
    },
    {
      "cell_type": "markdown",
      "source": [
        "#Bowling Scraper\n"
      ],
      "metadata": {
        "id": "hF76wuh42atT"
      }
    },
    {
      "cell_type": "markdown",
      "source": [
        "Install and open BeautifulSoup"
      ],
      "metadata": {
        "id": "4ha6kNkT2l9x"
      }
    },
    {
      "cell_type": "code",
      "execution_count": null,
      "metadata": {
        "id": "dfrtoK7-1tJr"
      },
      "outputs": [],
      "source": [
        "from bs4 import BeautifulSoup\n",
        "import requests\n",
        "page = requests.get('https://www.sportsadda.com/cricket/series/european-championship-2021-1991/scores-fixtures')\n",
        "soup = BeautifulSoup(page.content,  'html.parser')"
      ]
    },
    {
      "cell_type": "markdown",
      "source": [
        "Get all matches links"
      ],
      "metadata": {
        "id": "NO0dxAxu2tIt"
      }
    },
    {
      "cell_type": "code",
      "source": [
        "matches = []\n",
        "card_list = soup.find('div', {'class': 'card-list'})\n",
        "#print(card_list)\n",
        "\n",
        "for box in soup.find_all('div', {'class': 'card-list'}):\n",
        "  for a in box.find_all('a', {'class':'card-item recent'}):\n",
        "    link = a.get('href')\n",
        "    if 'cricket/scores-fixtures' not in link:\n",
        "      print(link)\n",
        "    else:\n",
        "      matches.append(link)\n"
      ],
      "metadata": {
        "id": "7abGpPZn2reR"
      },
      "execution_count": null,
      "outputs": []
    },
    {
      "cell_type": "markdown",
      "source": [
        "Define function to interpret these links"
      ],
      "metadata": {
        "id": "yOPklKAgAsDM"
      }
    },
    {
      "cell_type": "code",
      "source": [
        "def complete_url(link):\n",
        "  return 'https://www.sportsadda.com' + link"
      ],
      "metadata": {
        "id": "vMlfE1o7AwbQ"
      },
      "execution_count": null,
      "outputs": []
    },
    {
      "cell_type": "markdown",
      "source": [
        "Set up Selenium"
      ],
      "metadata": {
        "id": "zycmhQnyFPAE"
      }
    },
    {
      "cell_type": "code",
      "source": [
        "!pip install selenium\n",
        "!apt-get update # to update ubuntu to correctly run apt install\n",
        "!apt install chromium-chromedriver\n",
        "!cp /usr/lib/chromium-browser/chromedriver /usr/bin\n",
        "import sys\n",
        "sys.path.insert(0,'/usr/lib/chromium-browser/chromedriver')\n",
        "from selenium import webdriver\n",
        "chrome_options = webdriver.ChromeOptions()\n",
        "chrome_options.add_argument('--headless')\n",
        "chrome_options.add_argument('--no-sandbox')\n",
        "chrome_options.add_argument('--disable-dev-shm-usage')\n",
        "driver = webdriver.Chrome('chromedriver',options=chrome_options)\n"
      ],
      "metadata": {
        "colab": {
          "base_uri": "https://localhost:8080/"
        },
        "id": "P_IW6AhTFUTx",
        "outputId": "a5ed7da8-9014-4909-ec73-fa113198c57a"
      },
      "execution_count": null,
      "outputs": [
        {
          "output_type": "stream",
          "name": "stdout",
          "text": [
            "Looking in indexes: https://pypi.org/simple, https://us-python.pkg.dev/colab-wheels/public/simple/\n",
            "Requirement already satisfied: selenium in /usr/local/lib/python3.7/dist-packages (4.5.0)\n",
            "Requirement already satisfied: trio-websocket~=0.9 in /usr/local/lib/python3.7/dist-packages (from selenium) (0.9.2)\n",
            "Requirement already satisfied: urllib3[socks]~=1.26 in /usr/local/lib/python3.7/dist-packages (from selenium) (1.26.12)\n",
            "Requirement already satisfied: certifi>=2021.10.8 in /usr/local/lib/python3.7/dist-packages (from selenium) (2022.9.24)\n",
            "Requirement already satisfied: trio~=0.17 in /usr/local/lib/python3.7/dist-packages (from selenium) (0.22.0)\n",
            "Requirement already satisfied: attrs>=19.2.0 in /usr/local/lib/python3.7/dist-packages (from trio~=0.17->selenium) (22.1.0)\n",
            "Requirement already satisfied: idna in /usr/local/lib/python3.7/dist-packages (from trio~=0.17->selenium) (2.10)\n",
            "Requirement already satisfied: async-generator>=1.9 in /usr/local/lib/python3.7/dist-packages (from trio~=0.17->selenium) (1.10)\n",
            "Requirement already satisfied: exceptiongroup>=1.0.0rc9 in /usr/local/lib/python3.7/dist-packages (from trio~=0.17->selenium) (1.0.0rc9)\n",
            "Requirement already satisfied: outcome in /usr/local/lib/python3.7/dist-packages (from trio~=0.17->selenium) (1.2.0)\n",
            "Requirement already satisfied: sortedcontainers in /usr/local/lib/python3.7/dist-packages (from trio~=0.17->selenium) (2.4.0)\n",
            "Requirement already satisfied: sniffio in /usr/local/lib/python3.7/dist-packages (from trio~=0.17->selenium) (1.3.0)\n",
            "Requirement already satisfied: wsproto>=0.14 in /usr/local/lib/python3.7/dist-packages (from trio-websocket~=0.9->selenium) (1.2.0)\n",
            "Requirement already satisfied: PySocks!=1.5.7,<2.0,>=1.5.6 in /usr/local/lib/python3.7/dist-packages (from urllib3[socks]~=1.26->selenium) (1.7.1)\n",
            "Requirement already satisfied: h11<1,>=0.9.0 in /usr/local/lib/python3.7/dist-packages (from wsproto>=0.14->trio-websocket~=0.9->selenium) (0.14.0)\n",
            "Requirement already satisfied: typing-extensions in /usr/local/lib/python3.7/dist-packages (from h11<1,>=0.9.0->wsproto>=0.14->trio-websocket~=0.9->selenium) (4.1.1)\n",
            "Ign:1 https://developer.download.nvidia.com/compute/machine-learning/repos/ubuntu1804/x86_64  InRelease\n",
            "Hit:2 https://developer.download.nvidia.com/compute/cuda/repos/ubuntu1804/x86_64  InRelease\n",
            "Hit:3 https://cloud.r-project.org/bin/linux/ubuntu bionic-cran40/ InRelease\n",
            "Hit:4 https://developer.download.nvidia.com/compute/machine-learning/repos/ubuntu1804/x86_64  Release\n",
            "Hit:5 http://security.ubuntu.com/ubuntu bionic-security InRelease\n",
            "Hit:6 http://ppa.launchpad.net/c2d4u.team/c2d4u4.0+/ubuntu bionic InRelease\n",
            "Hit:7 http://archive.ubuntu.com/ubuntu bionic InRelease\n",
            "Hit:8 http://archive.ubuntu.com/ubuntu bionic-updates InRelease\n",
            "Hit:9 http://archive.ubuntu.com/ubuntu bionic-backports InRelease\n",
            "Hit:10 http://ppa.launchpad.net/cran/libgit2/ubuntu bionic InRelease\n",
            "Hit:12 http://ppa.launchpad.net/deadsnakes/ppa/ubuntu bionic InRelease\n",
            "Hit:13 http://ppa.launchpad.net/graphics-drivers/ppa/ubuntu bionic InRelease\n",
            "Reading package lists... Done\n",
            "Reading package lists... Done\n",
            "Building dependency tree       \n",
            "Reading state information... Done\n",
            "chromium-chromedriver is already the newest version (105.0.5195.102-0ubuntu0.18.04.1).\n",
            "The following package was automatically installed and is no longer required:\n",
            "  libnvidia-common-460\n",
            "Use 'apt autoremove' to remove it.\n",
            "0 upgraded, 0 newly installed, 0 to remove and 22 not upgraded.\n",
            "cp: '/usr/lib/chromium-browser/chromedriver' and '/usr/bin/chromedriver' are the same file\n"
          ]
        }
      ]
    },
    {
      "cell_type": "markdown",
      "source": [
        "###Function to scrape data from a single link"
      ],
      "metadata": {
        "id": "fhoIffyoBZ56"
      }
    },
    {
      "cell_type": "markdown",
      "source": [
        "Helper Functions"
      ],
      "metadata": {
        "id": "21k8yAZkZAxr"
      }
    },
    {
      "cell_type": "code",
      "source": [
        "from selenium.webdriver.common.by import By\n",
        "import time\n",
        "import pandas as pd\n",
        "\n",
        "def get_extra_details(driver, i):\n",
        "  out = {}\n",
        "  teams = get_teams(driver)\n",
        "  out['Team'] = bowling_team(teams, i)\n",
        "  out['Opponent'] = batting_team(teams,i)\n",
        "  out['Date'] = get_date(driver)\n",
        "  out['Result'] = result_string(driver)\n",
        "  return out\n",
        "\n",
        "def get_date(driver):\n",
        "  date = driver.find_element(By.XPATH, '//span[@class = \"match-time\"]')\n",
        "  return date.text\n",
        "\n",
        "\n",
        "def opposite_index(i):\n",
        "  if i == 0:\n",
        "    return 1\n",
        "  return 0\n",
        "\n",
        "def get_teams(driver):\n",
        "  headers = driver.find_elements(By.XPATH, '//ul[@class = \"tabs scorecard-sub-tab\"]/li/span[@class =\"fullname\"]')\n",
        "  return [h.text for h in headers]\n",
        "\n",
        "def batting_team(teams, i):\n",
        "  return teams[opposite_index(i)]\n",
        "def bowling_team(teams, i):\n",
        "  return teams[i]\n",
        "\n",
        "def result_string(driver):\n",
        "  result = driver.find_element(By.XPATH, '//span[@class = \"team-status\"]')\n",
        "  return result.text\n",
        "\n",
        "\n",
        "def scrape_table(table, extra_details):\n",
        "  header = table.find_element(By.XPATH, './/div[@class = \"table-head\"]//div[@class = \"table-row\"]')\n",
        "  output = pd.DataFrame(get_rows(table, extra_details) ,columns = get_cols(header, extra_details))\n",
        "  return output\n",
        "  \n",
        "def get_rows(table, extra_details):\n",
        "  out = []\n",
        "  for row in table.find_elements(By.XPATH, './/div[@class = \"table-body\"]//div[@class = \"table-row\"]'):\n",
        "    add = list(extra_details.values())\n",
        "    for div in row.find_elements(By.XPATH, './div'):\n",
        "      add.append(div.text)\n",
        "    out.append(add)\n",
        "  return out\n",
        "\n",
        "def get_cols(header, extra_details):\n",
        "  cols = list(extra_details.keys())\n",
        "  for div in header.find_elements(By.XPATH, './div'):\n",
        "    cols.append(div.text)\n",
        "  return cols"
      ],
      "metadata": {
        "id": "u-_jZoprZCgS"
      },
      "execution_count": null,
      "outputs": []
    },
    {
      "cell_type": "markdown",
      "source": [
        "Function"
      ],
      "metadata": {
        "id": "sYPTQKUdY6co"
      }
    },
    {
      "cell_type": "code",
      "source": [
        "def scrape(link):\n",
        "  driver.get(complete_url(link))\n",
        "  time.sleep(2)\n",
        "  out = []\n",
        "  for i in range(2):\n",
        "    li = driver.find_elements(By.XPATH, '//ul[@class = \"tabs scorecard-sub-tab\"]/li')\n",
        "    try:\n",
        "      li[i].click()\n",
        "    except:\n",
        "      pass\n",
        "    extra_details = get_extra_details(driver, i)\n",
        "    table = driver.find_element(By.XPATH, '//div[@class = \"table bowling-table\"]')\n",
        "    out.append(scrape_table(table, extra_details))\n",
        "  try:  \n",
        "    return pd.concat(out)\n",
        "  except:\n",
        "    try: return out[0]\n",
        "    except: pass\n",
        "\n",
        "  "
      ],
      "metadata": {
        "id": "mMycjdNaBg-0"
      },
      "execution_count": null,
      "outputs": []
    },
    {
      "cell_type": "markdown",
      "source": [
        "Iterate across all games"
      ],
      "metadata": {
        "id": "miOJ5afyJs8n"
      }
    },
    {
      "cell_type": "code",
      "source": [
        "frames = [scrape(matches[0])]\n",
        "for i in  range(1, len(matches)):\n",
        "  try:\n",
        "    df = scrape(matches[i])\n",
        "    frames.append(df)\n",
        "    print(i)\n",
        "  except:\n",
        "    print(matches[i])\n",
        "\n",
        "df = pd.concat(frames)\n"
      ],
      "metadata": {
        "id": "GzEw2pfqJsZo"
      },
      "execution_count": null,
      "outputs": []
    },
    {
      "cell_type": "code",
      "source": [
        "df"
      ],
      "metadata": {
        "colab": {
          "base_uri": "https://localhost:8080/",
          "height": 641
        },
        "id": "2bmp1jtoTKsA",
        "outputId": "2bec6c39-1a5c-413a-c3fd-66cadcbca34f"
      },
      "execution_count": 20,
      "outputs": [
        {
          "output_type": "execute_result",
          "data": {
            "text/plain": [
              "       Team    Opponent                             Date  \\\n",
              "0   Belgium  England XI     | Friday 8th October | 15:00   \n",
              "1   Belgium  England XI     | Friday 8th October | 15:00   \n",
              "2   Belgium  England XI     | Friday 8th October | 15:00   \n",
              "3   Belgium  England XI     | Friday 8th October | 15:00   \n",
              "4   Belgium  England XI     | Friday 8th October | 15:00   \n",
              "..      ...         ...                              ...   \n",
              "1   Belgium       Spain  | Monday 13th September | 07:00   \n",
              "2   Belgium       Spain  | Monday 13th September | 07:00   \n",
              "3   Belgium       Spain  | Monday 13th September | 07:00   \n",
              "4   Belgium       Spain  | Monday 13th September | 07:00   \n",
              "5   Belgium       Spain  | Monday 13th September | 07:00   \n",
              "\n",
              "                                   Result            Bowling    O  M   R  W  \\\n",
              "0   England XI beat Belgium by 10 wickets       Murid Ekrami  1.5  0  35  0   \n",
              "1   England XI beat Belgium by 10 wickets       Fahim Bhatti    2  0  37  0   \n",
              "2   England XI beat Belgium by 10 wickets         Waqas Raja    1  0  28  0   \n",
              "3   England XI beat Belgium by 10 wickets      Aziz Mohammad    2  0  18  0   \n",
              "4   England XI beat Belgium by 10 wickets    Khalid Ahmadzai    2  0  30  0   \n",
              "..                                    ...                ...  ... ..  .. ..   \n",
              "1         Belgium beat Spain by 4 wickets         Adeel Raja    1  0  17  0   \n",
              "2         Belgium beat Spain by 4 wickets        Kuldeep Lal    2  0   6  3   \n",
              "3         Belgium beat Spain by 4 wickets          Yasir Ali    2  0  28  0   \n",
              "4         Belgium beat Spain by 4 wickets      Paul Hennessy  1.4  0  22  2   \n",
              "5         Belgium beat Spain by 4 wickets  Zulqarnain Haider    1  0   3  0   \n",
              "\n",
              "   NB WD    E/R  \n",
              "0   0  1  19.09  \n",
              "1   0  1  18.50  \n",
              "2   1  0     28  \n",
              "3   0  3      9  \n",
              "4   1  0     15  \n",
              ".. .. ..    ...  \n",
              "1   1  0     17  \n",
              "2   0  0      3  \n",
              "3   0  0     14  \n",
              "4   0  1  13.20  \n",
              "5   0  0      3  \n",
              "\n",
              "[1058 rows x 12 columns]"
            ],
            "text/html": [
              "\n",
              "  <div id=\"df-b23bdb3b-533c-4a8a-a080-822d595db1d9\">\n",
              "    <div class=\"colab-df-container\">\n",
              "      <div>\n",
              "<style scoped>\n",
              "    .dataframe tbody tr th:only-of-type {\n",
              "        vertical-align: middle;\n",
              "    }\n",
              "\n",
              "    .dataframe tbody tr th {\n",
              "        vertical-align: top;\n",
              "    }\n",
              "\n",
              "    .dataframe thead th {\n",
              "        text-align: right;\n",
              "    }\n",
              "</style>\n",
              "<table border=\"1\" class=\"dataframe\">\n",
              "  <thead>\n",
              "    <tr style=\"text-align: right;\">\n",
              "      <th></th>\n",
              "      <th>Team</th>\n",
              "      <th>Opponent</th>\n",
              "      <th>Date</th>\n",
              "      <th>Result</th>\n",
              "      <th>Bowling</th>\n",
              "      <th>O</th>\n",
              "      <th>M</th>\n",
              "      <th>R</th>\n",
              "      <th>W</th>\n",
              "      <th>NB</th>\n",
              "      <th>WD</th>\n",
              "      <th>E/R</th>\n",
              "    </tr>\n",
              "  </thead>\n",
              "  <tbody>\n",
              "    <tr>\n",
              "      <th>0</th>\n",
              "      <td>Belgium</td>\n",
              "      <td>England XI</td>\n",
              "      <td>| Friday 8th October | 15:00</td>\n",
              "      <td>England XI beat Belgium by 10 wickets</td>\n",
              "      <td>Murid Ekrami</td>\n",
              "      <td>1.5</td>\n",
              "      <td>0</td>\n",
              "      <td>35</td>\n",
              "      <td>0</td>\n",
              "      <td>0</td>\n",
              "      <td>1</td>\n",
              "      <td>19.09</td>\n",
              "    </tr>\n",
              "    <tr>\n",
              "      <th>1</th>\n",
              "      <td>Belgium</td>\n",
              "      <td>England XI</td>\n",
              "      <td>| Friday 8th October | 15:00</td>\n",
              "      <td>England XI beat Belgium by 10 wickets</td>\n",
              "      <td>Fahim Bhatti</td>\n",
              "      <td>2</td>\n",
              "      <td>0</td>\n",
              "      <td>37</td>\n",
              "      <td>0</td>\n",
              "      <td>0</td>\n",
              "      <td>1</td>\n",
              "      <td>18.50</td>\n",
              "    </tr>\n",
              "    <tr>\n",
              "      <th>2</th>\n",
              "      <td>Belgium</td>\n",
              "      <td>England XI</td>\n",
              "      <td>| Friday 8th October | 15:00</td>\n",
              "      <td>England XI beat Belgium by 10 wickets</td>\n",
              "      <td>Waqas Raja</td>\n",
              "      <td>1</td>\n",
              "      <td>0</td>\n",
              "      <td>28</td>\n",
              "      <td>0</td>\n",
              "      <td>1</td>\n",
              "      <td>0</td>\n",
              "      <td>28</td>\n",
              "    </tr>\n",
              "    <tr>\n",
              "      <th>3</th>\n",
              "      <td>Belgium</td>\n",
              "      <td>England XI</td>\n",
              "      <td>| Friday 8th October | 15:00</td>\n",
              "      <td>England XI beat Belgium by 10 wickets</td>\n",
              "      <td>Aziz Mohammad</td>\n",
              "      <td>2</td>\n",
              "      <td>0</td>\n",
              "      <td>18</td>\n",
              "      <td>0</td>\n",
              "      <td>0</td>\n",
              "      <td>3</td>\n",
              "      <td>9</td>\n",
              "    </tr>\n",
              "    <tr>\n",
              "      <th>4</th>\n",
              "      <td>Belgium</td>\n",
              "      <td>England XI</td>\n",
              "      <td>| Friday 8th October | 15:00</td>\n",
              "      <td>England XI beat Belgium by 10 wickets</td>\n",
              "      <td>Khalid Ahmadzai</td>\n",
              "      <td>2</td>\n",
              "      <td>0</td>\n",
              "      <td>30</td>\n",
              "      <td>0</td>\n",
              "      <td>1</td>\n",
              "      <td>0</td>\n",
              "      <td>15</td>\n",
              "    </tr>\n",
              "    <tr>\n",
              "      <th>...</th>\n",
              "      <td>...</td>\n",
              "      <td>...</td>\n",
              "      <td>...</td>\n",
              "      <td>...</td>\n",
              "      <td>...</td>\n",
              "      <td>...</td>\n",
              "      <td>...</td>\n",
              "      <td>...</td>\n",
              "      <td>...</td>\n",
              "      <td>...</td>\n",
              "      <td>...</td>\n",
              "      <td>...</td>\n",
              "    </tr>\n",
              "    <tr>\n",
              "      <th>1</th>\n",
              "      <td>Belgium</td>\n",
              "      <td>Spain</td>\n",
              "      <td>| Monday 13th September | 07:00</td>\n",
              "      <td>Belgium beat Spain by 4 wickets</td>\n",
              "      <td>Adeel Raja</td>\n",
              "      <td>1</td>\n",
              "      <td>0</td>\n",
              "      <td>17</td>\n",
              "      <td>0</td>\n",
              "      <td>1</td>\n",
              "      <td>0</td>\n",
              "      <td>17</td>\n",
              "    </tr>\n",
              "    <tr>\n",
              "      <th>2</th>\n",
              "      <td>Belgium</td>\n",
              "      <td>Spain</td>\n",
              "      <td>| Monday 13th September | 07:00</td>\n",
              "      <td>Belgium beat Spain by 4 wickets</td>\n",
              "      <td>Kuldeep Lal</td>\n",
              "      <td>2</td>\n",
              "      <td>0</td>\n",
              "      <td>6</td>\n",
              "      <td>3</td>\n",
              "      <td>0</td>\n",
              "      <td>0</td>\n",
              "      <td>3</td>\n",
              "    </tr>\n",
              "    <tr>\n",
              "      <th>3</th>\n",
              "      <td>Belgium</td>\n",
              "      <td>Spain</td>\n",
              "      <td>| Monday 13th September | 07:00</td>\n",
              "      <td>Belgium beat Spain by 4 wickets</td>\n",
              "      <td>Yasir Ali</td>\n",
              "      <td>2</td>\n",
              "      <td>0</td>\n",
              "      <td>28</td>\n",
              "      <td>0</td>\n",
              "      <td>0</td>\n",
              "      <td>0</td>\n",
              "      <td>14</td>\n",
              "    </tr>\n",
              "    <tr>\n",
              "      <th>4</th>\n",
              "      <td>Belgium</td>\n",
              "      <td>Spain</td>\n",
              "      <td>| Monday 13th September | 07:00</td>\n",
              "      <td>Belgium beat Spain by 4 wickets</td>\n",
              "      <td>Paul Hennessy</td>\n",
              "      <td>1.4</td>\n",
              "      <td>0</td>\n",
              "      <td>22</td>\n",
              "      <td>2</td>\n",
              "      <td>0</td>\n",
              "      <td>1</td>\n",
              "      <td>13.20</td>\n",
              "    </tr>\n",
              "    <tr>\n",
              "      <th>5</th>\n",
              "      <td>Belgium</td>\n",
              "      <td>Spain</td>\n",
              "      <td>| Monday 13th September | 07:00</td>\n",
              "      <td>Belgium beat Spain by 4 wickets</td>\n",
              "      <td>Zulqarnain Haider</td>\n",
              "      <td>1</td>\n",
              "      <td>0</td>\n",
              "      <td>3</td>\n",
              "      <td>0</td>\n",
              "      <td>0</td>\n",
              "      <td>0</td>\n",
              "      <td>3</td>\n",
              "    </tr>\n",
              "  </tbody>\n",
              "</table>\n",
              "<p>1058 rows × 12 columns</p>\n",
              "</div>\n",
              "      <button class=\"colab-df-convert\" onclick=\"convertToInteractive('df-b23bdb3b-533c-4a8a-a080-822d595db1d9')\"\n",
              "              title=\"Convert this dataframe to an interactive table.\"\n",
              "              style=\"display:none;\">\n",
              "        \n",
              "  <svg xmlns=\"http://www.w3.org/2000/svg\" height=\"24px\"viewBox=\"0 0 24 24\"\n",
              "       width=\"24px\">\n",
              "    <path d=\"M0 0h24v24H0V0z\" fill=\"none\"/>\n",
              "    <path d=\"M18.56 5.44l.94 2.06.94-2.06 2.06-.94-2.06-.94-.94-2.06-.94 2.06-2.06.94zm-11 1L8.5 8.5l.94-2.06 2.06-.94-2.06-.94L8.5 2.5l-.94 2.06-2.06.94zm10 10l.94 2.06.94-2.06 2.06-.94-2.06-.94-.94-2.06-.94 2.06-2.06.94z\"/><path d=\"M17.41 7.96l-1.37-1.37c-.4-.4-.92-.59-1.43-.59-.52 0-1.04.2-1.43.59L10.3 9.45l-7.72 7.72c-.78.78-.78 2.05 0 2.83L4 21.41c.39.39.9.59 1.41.59.51 0 1.02-.2 1.41-.59l7.78-7.78 2.81-2.81c.8-.78.8-2.07 0-2.86zM5.41 20L4 18.59l7.72-7.72 1.47 1.35L5.41 20z\"/>\n",
              "  </svg>\n",
              "      </button>\n",
              "      \n",
              "  <style>\n",
              "    .colab-df-container {\n",
              "      display:flex;\n",
              "      flex-wrap:wrap;\n",
              "      gap: 12px;\n",
              "    }\n",
              "\n",
              "    .colab-df-convert {\n",
              "      background-color: #E8F0FE;\n",
              "      border: none;\n",
              "      border-radius: 50%;\n",
              "      cursor: pointer;\n",
              "      display: none;\n",
              "      fill: #1967D2;\n",
              "      height: 32px;\n",
              "      padding: 0 0 0 0;\n",
              "      width: 32px;\n",
              "    }\n",
              "\n",
              "    .colab-df-convert:hover {\n",
              "      background-color: #E2EBFA;\n",
              "      box-shadow: 0px 1px 2px rgba(60, 64, 67, 0.3), 0px 1px 3px 1px rgba(60, 64, 67, 0.15);\n",
              "      fill: #174EA6;\n",
              "    }\n",
              "\n",
              "    [theme=dark] .colab-df-convert {\n",
              "      background-color: #3B4455;\n",
              "      fill: #D2E3FC;\n",
              "    }\n",
              "\n",
              "    [theme=dark] .colab-df-convert:hover {\n",
              "      background-color: #434B5C;\n",
              "      box-shadow: 0px 1px 3px 1px rgba(0, 0, 0, 0.15);\n",
              "      filter: drop-shadow(0px 1px 2px rgba(0, 0, 0, 0.3));\n",
              "      fill: #FFFFFF;\n",
              "    }\n",
              "  </style>\n",
              "\n",
              "      <script>\n",
              "        const buttonEl =\n",
              "          document.querySelector('#df-b23bdb3b-533c-4a8a-a080-822d595db1d9 button.colab-df-convert');\n",
              "        buttonEl.style.display =\n",
              "          google.colab.kernel.accessAllowed ? 'block' : 'none';\n",
              "\n",
              "        async function convertToInteractive(key) {\n",
              "          const element = document.querySelector('#df-b23bdb3b-533c-4a8a-a080-822d595db1d9');\n",
              "          const dataTable =\n",
              "            await google.colab.kernel.invokeFunction('convertToInteractive',\n",
              "                                                     [key], {});\n",
              "          if (!dataTable) return;\n",
              "\n",
              "          const docLinkHtml = 'Like what you see? Visit the ' +\n",
              "            '<a target=\"_blank\" href=https://colab.research.google.com/notebooks/data_table.ipynb>data table notebook</a>'\n",
              "            + ' to learn more about interactive tables.';\n",
              "          element.innerHTML = '';\n",
              "          dataTable['output_type'] = 'display_data';\n",
              "          await google.colab.output.renderOutput(dataTable, element);\n",
              "          const docLink = document.createElement('div');\n",
              "          docLink.innerHTML = docLinkHtml;\n",
              "          element.appendChild(docLink);\n",
              "        }\n",
              "      </script>\n",
              "    </div>\n",
              "  </div>\n",
              "  "
            ]
          },
          "metadata": {},
          "execution_count": 20
        }
      ]
    },
    {
      "cell_type": "markdown",
      "source": [
        "Save df to csv file"
      ],
      "metadata": {
        "id": "Jl8jmSNjNq5V"
      }
    },
    {
      "cell_type": "code",
      "source": [
        "csv_title = 't10_ecn_bowling.csv'\n",
        "from google.colab import files\n",
        "df.to_csv(csv_title) \n",
        "files.download(csv_title)"
      ],
      "metadata": {
        "colab": {
          "base_uri": "https://localhost:8080/",
          "height": 17
        },
        "id": "Ayn4cs1tNsgc",
        "outputId": "503ef490-0f27-42e9-d3f3-904ed403d6ac"
      },
      "execution_count": null,
      "outputs": [
        {
          "output_type": "display_data",
          "data": {
            "text/plain": [
              "<IPython.core.display.Javascript object>"
            ],
            "application/javascript": [
              "\n",
              "    async function download(id, filename, size) {\n",
              "      if (!google.colab.kernel.accessAllowed) {\n",
              "        return;\n",
              "      }\n",
              "      const div = document.createElement('div');\n",
              "      const label = document.createElement('label');\n",
              "      label.textContent = `Downloading \"${filename}\": `;\n",
              "      div.appendChild(label);\n",
              "      const progress = document.createElement('progress');\n",
              "      progress.max = size;\n",
              "      div.appendChild(progress);\n",
              "      document.body.appendChild(div);\n",
              "\n",
              "      const buffers = [];\n",
              "      let downloaded = 0;\n",
              "\n",
              "      const channel = await google.colab.kernel.comms.open(id);\n",
              "      // Send a message to notify the kernel that we're ready.\n",
              "      channel.send({})\n",
              "\n",
              "      for await (const message of channel.messages) {\n",
              "        // Send a message to notify the kernel that we're ready.\n",
              "        channel.send({})\n",
              "        if (message.buffers) {\n",
              "          for (const buffer of message.buffers) {\n",
              "            buffers.push(buffer);\n",
              "            downloaded += buffer.byteLength;\n",
              "            progress.value = downloaded;\n",
              "          }\n",
              "        }\n",
              "      }\n",
              "      const blob = new Blob(buffers, {type: 'application/binary'});\n",
              "      const a = document.createElement('a');\n",
              "      a.href = window.URL.createObjectURL(blob);\n",
              "      a.download = filename;\n",
              "      div.appendChild(a);\n",
              "      a.click();\n",
              "      div.remove();\n",
              "    }\n",
              "  "
            ]
          },
          "metadata": {}
        },
        {
          "output_type": "display_data",
          "data": {
            "text/plain": [
              "<IPython.core.display.Javascript object>"
            ],
            "application/javascript": [
              "download(\"download_d1d28f7e-f7cc-4977-a091-96af64a1dc9d\", \"t10_ecn_bowling.csv\", 124637)"
            ]
          },
          "metadata": {}
        }
      ]
    }
  ]
}